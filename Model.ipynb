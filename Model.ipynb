{
 "cells": [
  {
   "cell_type": "markdown",
   "metadata": {},
   "source": [
    "### Assignment\n",
    "To complete this assignment, submit a link to a Jupyter notebook containing your solutions to the following tasks:\n",
    "\n",
    "### 1.Try to model the result of a coin toss. In your model, include any features that you think important in explaining the result. Discuss with your mentor about the pros and cons of adding too many features into your model.\n",
    "\n"
   ]
  },
  {
   "cell_type": "markdown",
   "metadata": {},
   "source": [
    "-shape of coin, width, size\n",
    "\n",
    "-area where coin is flipped in what geographical shape.\n",
    "\n",
    "-force, mass of coin, gravity, air or no air, friction to the surface.\n",
    "\n",
    "-height of tossing\n",
    "\n",
    "-too many features gives insight of factors affecting the result and helps to predict the result, but also it will become really complicated with lots of features added, and needs lots of work and experiments."
   ]
  },
  {
   "cell_type": "markdown",
   "metadata": {},
   "source": [
    "### 2. If you ever used Netflix, you should already have realized that it provides some recommendations for you to watch. In data science, this is an example of the so-called recommendations systems. Read this nontechnical blog post of Netflix about how they model their recommendations systems. Then, derive the features they use in their recommendations engines and discuss what else can be incorporated into this model."
   ]
  },
  {
   "cell_type": "markdown",
   "metadata": {},
   "source": [
    "Features they used:\n",
    "-interactions with their service (such as our viewing history and how we rated other titles),\n",
    "\n",
    "-other members with similar tastes and preferences on our service, and\n",
    "\n",
    "-information about the titles, such as their genre, categories, actors, release year, etc.\n",
    "\n",
    "-the time of day we watch,\n",
    "\n",
    "-the devices we are watching Netflix on, and\n",
    "\n",
    "-how long we watch.\n",
    "\n",
    "-“Jump starting” the recommendations system\n",
    "\n",
    "-Rows, rankings and title representation\n",
    " --the choice of row (e.g. Continue Watching, Trending Now, Award-Winning Comedies, etc.)\n",
    " --which titles appear in the row, and\n",
    " --the ranking of those titles.\n",
    "\n",
    "The recommendations system does not include demographic information (such as age or gender) as part of the decision making process, it could be because they want to reduce gender and age bias and recommend all viewers as their choices of views not acoording to their age and sex.\n",
    "\n",
    "extra features could be:\n",
    "-sometime people watch because of other peoples recommendation, that doesn't mean they like that movie, so their should be option where we can "
   ]
  }
 ],
 "metadata": {
  "kernelspec": {
   "display_name": "Python 3",
   "language": "python",
   "name": "python3"
  },
  "language_info": {
   "codemirror_mode": {
    "name": "ipython",
    "version": 3
   },
   "file_extension": ".py",
   "mimetype": "text/x-python",
   "name": "python",
   "nbconvert_exporter": "python",
   "pygments_lexer": "ipython3",
   "version": "3.7.3"
  }
 },
 "nbformat": 4,
 "nbformat_minor": 2
}

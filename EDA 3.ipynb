{
 "cells": [
  {
   "cell_type": "markdown",
   "metadata": {},
   "source": [
    "In this assignment, you'll continue working with the U.S. Education Dataset from Kaggle. The data gives detailed state level information on several facets of education on an annual basis. To learn more about the data and the column descriptions, you can view the Kaggle link above.\n",
    "\n",
    "Access this data using the Thinkful database using these credentials:\n",
    "\n",
    "postgres_user = 'dsbc_student'\n",
    "postgres_pw = '7*.8G9QH21'\n",
    "postgres_host = '142.93.121.174'\n",
    "postgres_port = '5432'\n",
    "postgres_db = 'useducation'\n",
    "\n",
    "Don't forget to apply the most suitable missing value filling techniques from the previous checkpoint to the data. Provide the answers to the following only after you've addressed missing values!\n",
    "\n",
    "To complete this assignment, submit a link to a Jupyter notebook containing your solutions to the following tasks:\n",
    "\n",
    "Consider the two variables: TOTAL_REVENUE and TOTAL_EXPENDITURE. Do these variables have outlier values?\n",
    "\n",
    "If you detect outliers in the TOTAL_REVENUE and TOTAL_EXPENDITURE variables, apply the techniques you learned in this checkpoint to eliminate them and validate that there's no outlier values after you handled them.\n",
    "\n",
    "Create another variable by subtracting the original TOTAL_EXPENDITURE from TOTAL_REVENUE (before you eliminated the outliers). You can think of it as a kind of budget deficit in education. Do you find any outlier values in this new variable? If so, eliminate them using the technique you think most suitable.\n",
    "\n",
    "Now create another variable by subtracting the TOTAL_EXPENDITURE from TOTAL_REVENUE. This time, use the outlier eliminated versions of TOTAL_EXPENDITURE from TOTAL_REVENUE. In this newly created variable, can you find any outliers? If so, eliminate them.\n",
    "\n",
    "Compare some basic descriptive statistics of the budget variables you end up with in the 3rd and the 4th questions. Do you see any differences?\n",
    "\n",
    "If our variable of interest is the budget deficit variable, which method do you think is the appropriate in dealing with the outliers in this variable: the method in the 3rd question or the one in the 4th question?"
   ]
  },
  {
   "cell_type": "code",
   "execution_count": 2,
   "metadata": {},
   "outputs": [],
   "source": [
    "import matplotlib.pyplot as plt\n",
    "import numpy as np\n",
    "import pandas as pd\n",
    "from sqlalchemy import create_engine\n",
    "import warnings\n",
    "\n",
    "\n",
    "warnings.filterwarnings('ignore')"
   ]
  },
  {
   "cell_type": "code",
   "execution_count": 3,
   "metadata": {},
   "outputs": [],
   "source": [
    "postgres_user = 'dsbc_student'\n",
    "postgres_pw = '7*.8G9QH21'\n",
    "postgres_host = '142.93.121.174'\n",
    "postgres_port = '5432'\n",
    "postgres_db = 'useducation'\n",
    "\n",
    "engine = create_engine('postgresql://{}:{}@{}:{}/{}'.format(\n",
    "    postgres_user, postgres_pw, postgres_host, postgres_port, postgres_db))\n",
    "\n",
    "useducation = pd.read_sql_query('select * from useducation',con=engine)\n",
    "\n",
    "engine.dispose()"
   ]
  },
  {
   "cell_type": "code",
   "execution_count": 4,
   "metadata": {},
   "outputs": [],
   "source": [
    "useducation_c = useducation.copy()"
   ]
  },
  {
   "cell_type": "code",
   "execution_count": 5,
   "metadata": {},
   "outputs": [
    {
     "data": {
      "text/plain": [
       "array(['ALABAMA', 'ALASKA', 'ARIZONA', 'ARKANSAS', 'CALIFORNIA',\n",
       "       'COLORADO', 'CONNECTICUT', 'DELAWARE', 'DISTRICT_OF_COLUMBIA',\n",
       "       'FLORIDA', 'GEORGIA', 'HAWAII', 'IDAHO', 'ILLINOIS', 'INDIANA',\n",
       "       'IOWA', 'KANSAS', 'KENTUCKY', 'LOUISIANA', 'MAINE', 'MARYLAND',\n",
       "       'MASSACHUSETTS', 'MICHIGAN', 'MINNESOTA', 'MISSISSIPPI',\n",
       "       'MISSOURI', 'MONTANA', 'NEBRASKA', 'NEVADA', 'NEW_HAMPSHIRE',\n",
       "       'NEW_JERSEY', 'NEW_MEXICO', 'NEW_YORK', 'NORTH_CAROLINA',\n",
       "       'NORTH_DAKOTA', 'OHIO', 'WYOMING', 'OKLAHOMA', 'OREGON',\n",
       "       'PENNSYLVANIA', 'RHODE_ISLAND', 'SOUTH_CAROLINA', 'SOUTH_DAKOTA',\n",
       "       'TENNESSEE', 'TEXAS', 'UTAH', 'VERMONT', 'VIRGINIA', 'WASHINGTON',\n",
       "       'WEST_VIRGINIA', 'WISCONSIN', 'AMERICAN_SAMOA', 'GUAM',\n",
       "       'Northern Mariana Island', 'PUERTO_RICO', 'U.S. Virgin Island'],\n",
       "      dtype=object)"
      ]
     },
     "execution_count": 5,
     "metadata": {},
     "output_type": "execute_result"
    }
   ],
   "source": [
    "#change all the wrong state to real one\n",
    "useducation_c['STATE'].replace(to_replace =['COMMONWEALTH_OF_MARIANAS', 'MARIANAS',  'NORTHERN_MARIANAS' ,  'NORTHERN_MARIANA_ISLANDS',  'MP'], value ='Northern Mariana Island', inplace=True) \n",
    "useducation_c['STATE'].replace(to_replace =['VIRGIN_ISLANDS',  'U.S._VIRGIN_ISLANDS' , 'VI'], value ='U.S. Virgin Island', inplace = True)\n",
    "useducation_c['STATE'].replace(to_replace =['PR'], value ='PUERTO_RICO', inplace = True)\n",
    "useducation_c['STATE'].replace(to_replace =['GU'], value ='GUAM', inplace = True)\n",
    "useducation_c['STATE'].replace(to_replace =['AS'], value ='AMERICAN_SAMOA', inplace=True)\n",
    "useducation_c['STATE'].replace(to_replace =['BUREAU_OF_INDIAN_AFFAIRS',  'BI',  'BIE',  'BUREAU_OF_INDIAN_EDUCATIO',  'BUREAU_OF_INDIAN_EDUCATION'], value ='DISTRICT_OF_COLUMBIA', inplace=True)\n",
    "useducation_c['STATE'].replace(to_replace =['DOD_-_OVERSEAS',  'DOD_-_DOMESTIC',  'DOD','DOD_OVERSEAS', 'DOD_DOMESTIC','DD','DEPARTMENT_OF_DEFENSE','DEPARTMENT_OF_DEFENSE_EDUCATION_ACTIVITY', 'DOD_(OVERSEAS_AND_DOMESTIC_COMBINED)' ,  'DOD_-_FOREIGN'], value ='VIRGINIA', inplace=True)\n",
    "\n",
    "useducation_c['STATE'].unique()\n"
   ]
  },
  {
   "cell_type": "code",
   "execution_count": 6,
   "metadata": {},
   "outputs": [],
   "source": [
    "useducation_c.replace(to_replace =['n/a', 'na', 'nan','NaN','NA', '--','...', 'inf'], value =np.nan, inplace = True)"
   ]
  },
  {
   "cell_type": "code",
   "execution_count": 7,
   "metadata": {},
   "outputs": [],
   "source": [
    "useducation_c.columns = [x.capitalize() for x in useducation_c.columns]\n",
    "useducation_c.State = [x.capitalize() for x in useducation_c.State]"
   ]
  },
  {
   "cell_type": "code",
   "execution_count": 8,
   "metadata": {},
   "outputs": [],
   "source": [
    "use_c=useducation_c.groupby(\"State\")"
   ]
  },
  {
   "cell_type": "code",
   "execution_count": 9,
   "metadata": {
    "scrolled": false
   },
   "outputs": [
    {
     "data": {
      "text/html": [
       "<div>\n",
       "<style scoped>\n",
       "    .dataframe tbody tr th:only-of-type {\n",
       "        vertical-align: middle;\n",
       "    }\n",
       "\n",
       "    .dataframe tbody tr th {\n",
       "        vertical-align: top;\n",
       "    }\n",
       "\n",
       "    .dataframe thead th {\n",
       "        text-align: right;\n",
       "    }\n",
       "</style>\n",
       "<table border=\"1\" class=\"dataframe\">\n",
       "  <thead>\n",
       "    <tr style=\"text-align: right;\">\n",
       "      <th></th>\n",
       "      <th>Primary_key</th>\n",
       "      <th>State</th>\n",
       "      <th>Year</th>\n",
       "      <th>Enroll</th>\n",
       "      <th>Total_revenue</th>\n",
       "      <th>Federal_revenue</th>\n",
       "      <th>State_revenue</th>\n",
       "      <th>Local_revenue</th>\n",
       "      <th>Total_expenditure</th>\n",
       "      <th>Instruction_expenditure</th>\n",
       "      <th>...</th>\n",
       "      <th>Grades_4_g</th>\n",
       "      <th>Grades_8_g</th>\n",
       "      <th>Grades_12_g</th>\n",
       "      <th>Grades_1_8_g</th>\n",
       "      <th>Grades_9_12_g</th>\n",
       "      <th>Grades_all_g</th>\n",
       "      <th>Avg_math_4_score</th>\n",
       "      <th>Avg_math_8_score</th>\n",
       "      <th>Avg_reading_4_score</th>\n",
       "      <th>Avg_reading_8_score</th>\n",
       "    </tr>\n",
       "  </thead>\n",
       "  <tbody>\n",
       "    <tr>\n",
       "      <th>0</th>\n",
       "      <td>1992_ALABAMA</td>\n",
       "      <td>Alabama</td>\n",
       "      <td>1992</td>\n",
       "      <td>727716.0</td>\n",
       "      <td>2678885.0</td>\n",
       "      <td>304177.0</td>\n",
       "      <td>1659028.0</td>\n",
       "      <td>715680.0</td>\n",
       "      <td>2653798.0</td>\n",
       "      <td>1481703.0</td>\n",
       "      <td>...</td>\n",
       "      <td>57948.0</td>\n",
       "      <td>58025.0</td>\n",
       "      <td>41167.0</td>\n",
       "      <td>471564.0</td>\n",
       "      <td>196386.0</td>\n",
       "      <td>676174.0</td>\n",
       "      <td>208.327876</td>\n",
       "      <td>252.187522</td>\n",
       "      <td>207.963517</td>\n",
       "      <td>260.276441</td>\n",
       "    </tr>\n",
       "    <tr>\n",
       "      <th>1</th>\n",
       "      <td>1992_ALASKA</td>\n",
       "      <td>Alaska</td>\n",
       "      <td>1992</td>\n",
       "      <td>121156.0</td>\n",
       "      <td>1049591.0</td>\n",
       "      <td>106780.0</td>\n",
       "      <td>720711.0</td>\n",
       "      <td>222100.0</td>\n",
       "      <td>972488.0</td>\n",
       "      <td>498362.0</td>\n",
       "      <td>...</td>\n",
       "      <td>9748.0</td>\n",
       "      <td>8789.0</td>\n",
       "      <td>6714.0</td>\n",
       "      <td>79117.0</td>\n",
       "      <td>30847.0</td>\n",
       "      <td>112335.0</td>\n",
       "      <td>223.833455</td>\n",
       "      <td>277.643071</td>\n",
       "      <td>211.547154</td>\n",
       "      <td>258.859712</td>\n",
       "    </tr>\n",
       "    <tr>\n",
       "      <th>2</th>\n",
       "      <td>1992_ARIZONA</td>\n",
       "      <td>Arizona</td>\n",
       "      <td>1992</td>\n",
       "      <td>676297.0</td>\n",
       "      <td>3258079.0</td>\n",
       "      <td>297888.0</td>\n",
       "      <td>1369815.0</td>\n",
       "      <td>1590376.0</td>\n",
       "      <td>3401580.0</td>\n",
       "      <td>1435908.0</td>\n",
       "      <td>...</td>\n",
       "      <td>55433.0</td>\n",
       "      <td>49081.0</td>\n",
       "      <td>37410.0</td>\n",
       "      <td>437127.0</td>\n",
       "      <td>175210.0</td>\n",
       "      <td>614881.0</td>\n",
       "      <td>215.253932</td>\n",
       "      <td>265.366278</td>\n",
       "      <td>206.212716</td>\n",
       "      <td>262.169895</td>\n",
       "    </tr>\n",
       "    <tr>\n",
       "      <th>3</th>\n",
       "      <td>1992_ARKANSAS</td>\n",
       "      <td>Arkansas</td>\n",
       "      <td>1992</td>\n",
       "      <td>311432.0</td>\n",
       "      <td>1711959.0</td>\n",
       "      <td>178571.0</td>\n",
       "      <td>958785.0</td>\n",
       "      <td>574603.0</td>\n",
       "      <td>1743022.0</td>\n",
       "      <td>964323.0</td>\n",
       "      <td>...</td>\n",
       "      <td>34632.0</td>\n",
       "      <td>36011.0</td>\n",
       "      <td>27651.0</td>\n",
       "      <td>281338.0</td>\n",
       "      <td>123113.0</td>\n",
       "      <td>405259.0</td>\n",
       "      <td>210.206028</td>\n",
       "      <td>256.312090</td>\n",
       "      <td>208.634458</td>\n",
       "      <td>264.619665</td>\n",
       "    </tr>\n",
       "    <tr>\n",
       "      <th>4</th>\n",
       "      <td>1992_CALIFORNIA</td>\n",
       "      <td>California</td>\n",
       "      <td>1992</td>\n",
       "      <td>5129788.0</td>\n",
       "      <td>26260025.0</td>\n",
       "      <td>2072470.0</td>\n",
       "      <td>16546514.0</td>\n",
       "      <td>7641041.0</td>\n",
       "      <td>27138832.0</td>\n",
       "      <td>14358922.0</td>\n",
       "      <td>...</td>\n",
       "      <td>418418.0</td>\n",
       "      <td>363296.0</td>\n",
       "      <td>270675.0</td>\n",
       "      <td>3286034.0</td>\n",
       "      <td>1372011.0</td>\n",
       "      <td>4717112.0</td>\n",
       "      <td>208.398961</td>\n",
       "      <td>260.892247</td>\n",
       "      <td>196.764414</td>\n",
       "      <td>269.197451</td>\n",
       "    </tr>\n",
       "  </tbody>\n",
       "</table>\n",
       "<p>5 rows × 25 columns</p>\n",
       "</div>"
      ],
      "text/plain": [
       "       Primary_key       State  Year     Enroll  Total_revenue  \\\n",
       "0     1992_ALABAMA     Alabama  1992   727716.0      2678885.0   \n",
       "1      1992_ALASKA      Alaska  1992   121156.0      1049591.0   \n",
       "2     1992_ARIZONA     Arizona  1992   676297.0      3258079.0   \n",
       "3    1992_ARKANSAS    Arkansas  1992   311432.0      1711959.0   \n",
       "4  1992_CALIFORNIA  California  1992  5129788.0     26260025.0   \n",
       "\n",
       "   Federal_revenue  State_revenue  Local_revenue  Total_expenditure  \\\n",
       "0         304177.0      1659028.0       715680.0          2653798.0   \n",
       "1         106780.0       720711.0       222100.0           972488.0   \n",
       "2         297888.0      1369815.0      1590376.0          3401580.0   \n",
       "3         178571.0       958785.0       574603.0          1743022.0   \n",
       "4        2072470.0     16546514.0      7641041.0         27138832.0   \n",
       "\n",
       "   Instruction_expenditure  ...  Grades_4_g  Grades_8_g  Grades_12_g  \\\n",
       "0                1481703.0  ...     57948.0     58025.0      41167.0   \n",
       "1                 498362.0  ...      9748.0      8789.0       6714.0   \n",
       "2                1435908.0  ...     55433.0     49081.0      37410.0   \n",
       "3                 964323.0  ...     34632.0     36011.0      27651.0   \n",
       "4               14358922.0  ...    418418.0    363296.0     270675.0   \n",
       "\n",
       "   Grades_1_8_g  Grades_9_12_g  Grades_all_g  Avg_math_4_score  \\\n",
       "0      471564.0       196386.0      676174.0        208.327876   \n",
       "1       79117.0        30847.0      112335.0        223.833455   \n",
       "2      437127.0       175210.0      614881.0        215.253932   \n",
       "3      281338.0       123113.0      405259.0        210.206028   \n",
       "4     3286034.0      1372011.0     4717112.0        208.398961   \n",
       "\n",
       "   Avg_math_8_score  Avg_reading_4_score  Avg_reading_8_score  \n",
       "0        252.187522           207.963517           260.276441  \n",
       "1        277.643071           211.547154           258.859712  \n",
       "2        265.366278           206.212716           262.169895  \n",
       "3        256.312090           208.634458           264.619665  \n",
       "4        260.892247           196.764414           269.197451  \n",
       "\n",
       "[5 rows x 25 columns]"
      ]
     },
     "execution_count": 9,
     "metadata": {},
     "output_type": "execute_result"
    }
   ],
   "source": [
    "used_c = use_c.apply(lambda x: x.fillna(x.interpolate(method = 'linear', axis = 0, limit_direction = 'both')))\n",
    "used_c.head()"
   ]
  },
  {
   "cell_type": "code",
   "execution_count": 10,
   "metadata": {},
   "outputs": [],
   "source": [
    "used_c.dropna(inplace=True)"
   ]
  },
  {
   "cell_type": "code",
   "execution_count": 11,
   "metadata": {},
   "outputs": [
    {
     "data": {
      "text/plain": [
       "array([ 2678885.,  1049591.,  3258079., ..., 13448045.,  1788749.,\n",
       "       23766529.])"
      ]
     },
     "execution_count": 11,
     "metadata": {},
     "output_type": "execute_result"
    }
   ],
   "source": [
    "used_c['Total_revenue'].unique()"
   ]
  },
  {
   "cell_type": "markdown",
   "metadata": {},
   "source": [
    "### Consider the two variables: TOTAL_REVENUE and TOTAL_EXPENDITURE. Do these variables have outlier values?"
   ]
  },
  {
   "cell_type": "code",
   "execution_count": 12,
   "metadata": {
    "scrolled": false
   },
   "outputs": [
    {
     "data": {
      "image/png": "[encoded data removed]",
      "text/plain": [
       "<Figure size 432x288 with 1 Axes>"
      ]
     },
     "metadata": {
      "needs_background": "light"
     },
     "output_type": "display_data"
    }
   ],
   "source": [
    "used_c.boxplot(column = ['Total_revenue', 'Total_expenditure'])\n",
    "plt.title(\"Box plot of total revenue and total expenditure (whis=1.5)\")\n",
    "plt.show()"
   ]
  },
  {
   "cell_type": "markdown",
   "metadata": {},
   "source": [
    "Lots of outliers\n"
   ]
  },
  {
   "cell_type": "code",
   "execution_count": 13,
   "metadata": {},
   "outputs": [
    {
     "data": {
      "image/png": "[encoded data removed]",
      "text/plain": [
       "<Figure size 432x288 with 1 Axes>"
      ]
     },
     "metadata": {
      "needs_background": "light"
     },
     "output_type": "display_data"
    }
   ],
   "source": [
    "used_c.boxplot(column = ['Total_revenue', 'Total_expenditure'], whis = 10)\n",
    "plt.title(\"Box plot of total revenue and total expenditure (whis=10)\")\n",
    "plt.show()"
   ]
  },
  {
   "cell_type": "markdown",
   "metadata": {},
   "source": [
    "because of the high threshold limit, outliers now is lower/zero"
   ]
  },
  {
   "cell_type": "markdown",
   "metadata": {},
   "source": [
    "Histogram is another useful chart to se outliers"
   ]
  },
  {
   "cell_type": "code",
   "execution_count": 14,
   "metadata": {
    "scrolled": true
   },
   "outputs": [
    {
     "data": {
      "image/png": "[encoded data removed]",
      "text/plain": [
       "<Figure size 432x288 with 2 Axes>"
      ]
     },
     "metadata": {
      "needs_background": "light"
     },
     "output_type": "display_data"
    }
   ],
   "source": [
    "used_c.hist(column = ['Total_revenue', 'Total_expenditure'])\n",
    "\n",
    "plt.show()"
   ]
  },
  {
   "cell_type": "markdown",
   "metadata": {},
   "source": [
    "Here, right hand ranges are all outliers.\n",
    "\n",
    "Next, formal statistical methods to detect outliers.\n",
    "\n"
   ]
  },
  {
   "cell_type": "markdown",
   "metadata": {},
   "source": [
    "### Z-score:"
   ]
  },
  {
   "cell_type": "code",
   "execution_count": 15,
   "metadata": {},
   "outputs": [
    {
     "data": {
      "text/plain": [
       "dtype('float64')"
      ]
     },
     "execution_count": 15,
     "metadata": {},
     "output_type": "execute_result"
    }
   ],
   "source": [
    "used_c['Total_revenue'].dtype"
   ]
  },
  {
   "cell_type": "code",
   "execution_count": 16,
   "metadata": {
    "scrolled": false
   },
   "outputs": [
    {
     "data": {
      "text/plain": [
       "0     2678885\n",
       "1     1049591\n",
       "2     3258079\n",
       "3     1711959\n",
       "4    26260025\n",
       "Name: Total_revenue, dtype: int64"
      ]
     },
     "execution_count": 16,
     "metadata": {},
     "output_type": "execute_result"
    }
   ],
   "source": [
    "used_c['Total_revenue'].astype(int).head()"
   ]
  },
  {
   "cell_type": "code",
   "execution_count": 17,
   "metadata": {
    "scrolled": true
   },
   "outputs": [
    {
     "name": "stdout",
     "output_type": "stream",
     "text": [
      "The score threshold is: 0\n",
      "The indices of the outliers:\n",
      "(array([   4,    9,   13,   22,   30,   32,   39,   44,   56,   61,   65,\n",
      "         75,   85,   88,   91,   96,  108,  114,  118,  127,  137,  140,\n",
      "        143,  148,  150,  161,  166,  170,  179,  187,  190,  193,  196,\n",
      "        201,  213,  218,  222,  231,  239,  241,  244,  247,  252,  264,\n",
      "        269,  273,  282,  290,  292,  295,  299,  304,  316,  321,  325,\n",
      "        334,  342,  344,  347,  350,  355,  367,  373,  374,  377,  386,\n",
      "        394,  396,  399,  402,  407,  420,  425,  426,  429,  437,  438,\n",
      "        445,  447,  449,  452,  455,  460,  472,  477,  478,  481,  482,\n",
      "        490,  491,  499,  501,  502,  504,  507,  512,  515,  524,  529,\n",
      "        530,  533,  541,  542,  550,  552,  553,  555,  559,  564,  567,\n",
      "        576,  581,  582,  585,  594,  595,  603,  605,  606,  608,  611,\n",
      "        616,  619,  628,  633,  634,  637,  638,  645,  646,  654,  656,\n",
      "        657,  659,  662,  665,  668,  671,  680,  685,  686,  689,  690,\n",
      "        696,  697,  698,  706,  708,  709,  711,  714,  719,  722,  725,\n",
      "        731,  735,  737,  738,  741,  742,  748,  749,  750,  751,  758,\n",
      "        760,  761,  763,  766,  771,  775,  776,  778,  784,  789,  790,\n",
      "        793,  794,  800,  801,  802,  803,  808,  811,  813,  814,  816,\n",
      "        819,  824,  827,  828,  830,  836,  838,  842,  843,  846,  847,\n",
      "        853,  854,  855,  856,  858,  863,  865,  866,  868,  871,  876,\n",
      "        879,  880,  882,  883,  885,  891,  893,  897,  898,  901,  902,\n",
      "        908,  909,  910,  911,  913,  919,  921,  922,  924,  927,  932,\n",
      "        935,  936,  938,  944,  946,  950,  951,  954,  955,  961,  962,\n",
      "        963,  964,  966,  971,  973,  974,  976,  979,  984,  987,  988,\n",
      "        991,  997,  999, 1002, 1003, 1006, 1007, 1013, 1014, 1015, 1016,\n",
      "       1018, 1023, 1025, 1026, 1028, 1031, 1036, 1039, 1040, 1042, 1048,\n",
      "       1050, 1053, 1054, 1057, 1058, 1065, 1066, 1067, 1068, 1070, 1075,\n",
      "       1077, 1078, 1080, 1083, 1088, 1091, 1092, 1094, 1101, 1103, 1106,\n",
      "       1107, 1110, 1111, 1117, 1118, 1119, 1120, 1122, 1127, 1129, 1130,\n",
      "       1132, 1135, 1140, 1143, 1144, 1146, 1152, 1154, 1157, 1158, 1161,\n",
      "       1162, 1168, 1169, 1170, 1171, 1173, 1178, 1180, 1181, 1183, 1186,\n",
      "       1191, 1194, 1195, 1197, 1203, 1204, 1205, 1208, 1209, 1212, 1213,\n",
      "       1219, 1220, 1221, 1222, 1224, 1229, 1231, 1232, 1234, 1237, 1241,\n",
      "       1242, 1245, 1246, 1248, 1254, 1255, 1256, 1259, 1260, 1263, 1264,\n",
      "       1270, 1271, 1272, 1273, 1275, 1280, 1282, 1283, 1285, 1286, 1287,\n",
      "       1289, 1291, 1293, 1294, 1295, 1297, 1298, 1300, 1301, 1302, 1303,\n",
      "       1306, 1308, 1310, 1311, 1312, 1314, 1315, 1317, 1318, 1319, 1321,\n",
      "       1323, 1324, 1326, 1327, 1328, 1329, 1334, 1335, 1336, 1339, 1340,\n",
      "       1343, 1344, 1350, 1351, 1352, 1353, 1355, 1360, 1362, 1363, 1365,\n",
      "       1366, 1367, 1370, 1371, 1373]),)\n",
      "Number of outliers is: 423\n",
      "The score threshold is: 1\n",
      "The indices of the outliers:\n",
      "(array([   4,   32,   56,   85,  108,  137,  150,  161,  190,  213,  241,\n",
      "        252,  264,  292,  304,  316,  344,  355,  367,  396,  407,  420,\n",
      "        449,  460,  472,  481,  501,  512,  524,  552,  564,  576,  605,\n",
      "        616,  628,  633,  654,  656,  668,  680,  685,  689,  706,  708,\n",
      "        714,  719,  731,  737,  741,  758,  760,  766,  771,  784,  789,\n",
      "        793,  811,  813,  816,  819,  824,  836,  842,  846,  863,  865,\n",
      "        868,  871,  876,  891,  897,  901,  919,  921,  924,  927,  932,\n",
      "        944,  950,  954,  971,  973,  976,  979,  984,  997, 1002, 1006,\n",
      "       1023, 1025, 1028, 1031, 1036, 1048, 1053, 1057, 1075, 1077, 1080,\n",
      "       1083, 1088, 1101, 1106, 1110, 1127, 1129, 1132, 1135, 1140, 1152,\n",
      "       1157, 1161, 1178, 1180, 1183, 1186, 1191, 1203, 1208, 1212, 1229,\n",
      "       1231, 1234, 1237, 1242, 1254, 1259, 1263, 1280, 1282, 1285, 1302,\n",
      "       1334, 1339, 1343, 1360, 1362, 1365, 1367]),)\n",
      "Number of outliers is: 139\n",
      "The score threshold is: 2\n",
      "The indices of the outliers:\n",
      "(array([ 264,  316,  367,  420,  472,  481,  501,  524,  552,  576,  605,\n",
      "        616,  628,  656,  668,  680,  708,  719,  731,  760,  771,  784,\n",
      "        813,  824,  836,  865,  876,  891,  921,  932,  944,  973,  984,\n",
      "        997, 1025, 1036, 1048, 1077, 1088, 1101, 1129, 1140, 1152, 1180,\n",
      "       1191, 1203, 1231, 1242, 1254, 1282, 1334, 1362, 1367]),)\n",
      "Number of outliers is: 53\n",
      "The score threshold is: 3\n",
      "The indices of the outliers:\n",
      "(array([ 420,  472,  481,  524,  576,  628,  680,  731,  760,  784,  813,\n",
      "        836,  865,  876,  891,  921,  932,  944,  973,  984,  997, 1025,\n",
      "       1036, 1048, 1077, 1088, 1101, 1129, 1140, 1152, 1180, 1191, 1203,\n",
      "       1231, 1242, 1254, 1282, 1334, 1362, 1367]),)\n",
      "Number of outliers is: 40\n",
      "The score threshold is: 4\n",
      "The indices of the outliers:\n",
      "(array([ 481,  576,  628,  680,  731,  784,  836,  891,  944,  997, 1025,\n",
      "       1048, 1077, 1101, 1129, 1152, 1180, 1203, 1231, 1254, 1282, 1334,\n",
      "       1362]),)\n",
      "Number of outliers is: 23\n"
     ]
    }
   ],
   "source": [
    "from scipy.stats import zscore\n",
    "from scipy import stats\n",
    "\n",
    "z_scores = zscore(used_c['Total_revenue'])\n",
    "for threshold in range(0,5):\n",
    "    print(\"The score threshold is: {}\".format(threshold))\n",
    "    print(\"The indices of the outliers:\")\n",
    "    print(np.where(z_scores > threshold))\n",
    "    print(\"Number of outliers is: {}\".format(len((np.where(z_scores > threshold)[0]))))"
   ]
  },
  {
   "cell_type": "code",
   "execution_count": 18,
   "metadata": {},
   "outputs": [
    {
     "name": "stdout",
     "output_type": "stream",
     "text": [
      "The score threshold is: 0\n",
      "The indices of the outliers:\n",
      "(array([   4,    9,   13,   22,   30,   32,   35,   39,   44,   56,   61,\n",
      "         65,   75,   85,   88,   91,   96,  108,  114,  118,  127,  137,\n",
      "        140,  143,  148,  150,  161,  166,  170,  179,  187,  190,  193,\n",
      "        196,  201,  213,  218,  222,  231,  239,  241,  244,  247,  252,\n",
      "        264,  269,  273,  282,  290,  292,  295,  299,  304,  316,  321,\n",
      "        325,  334,  342,  344,  347,  350,  355,  367,  373,  374,  377,\n",
      "        386,  394,  396,  399,  402,  407,  420,  425,  426,  429,  437,\n",
      "        438,  445,  447,  449,  452,  455,  460,  472,  477,  478,  481,\n",
      "        482,  490,  491,  499,  501,  502,  504,  507,  512,  515,  524,\n",
      "        529,  530,  533,  541,  542,  550,  552,  553,  555,  559,  564,\n",
      "        567,  576,  581,  582,  585,  586,  594,  595,  603,  605,  606,\n",
      "        608,  611,  616,  619,  628,  633,  634,  637,  638,  645,  646,\n",
      "        654,  656,  657,  659,  662,  665,  668,  671,  680,  685,  686,\n",
      "        689,  690,  696,  697,  698,  706,  708,  709,  711,  714,  719,\n",
      "        722,  723,  725,  731,  735,  737,  738,  741,  742,  748,  749,\n",
      "        750,  751,  758,  760,  761,  763,  766,  771,  775,  776,  778,\n",
      "        784,  789,  790,  793,  794,  800,  801,  802,  803,  808,  811,\n",
      "        813,  814,  816,  819,  824,  827,  828,  830,  834,  836,  842,\n",
      "        843,  846,  847,  853,  854,  855,  856,  858,  863,  865,  866,\n",
      "        868,  871,  876,  879,  880,  882,  883,  885,  889,  891,  897,\n",
      "        898,  901,  902,  908,  909,  910,  911,  913,  919,  921,  922,\n",
      "        924,  927,  932,  935,  936,  938,  944,  946,  950,  951,  954,\n",
      "        955,  961,  962,  963,  964,  966,  971,  973,  974,  976,  979,\n",
      "        984,  987,  988,  991,  997,  999, 1002, 1003, 1006, 1007, 1013,\n",
      "       1014, 1015, 1016, 1018, 1023, 1025, 1026, 1028, 1031, 1036, 1039,\n",
      "       1040, 1042, 1048, 1050, 1053, 1054, 1057, 1058, 1065, 1066, 1067,\n",
      "       1068, 1070, 1075, 1077, 1078, 1080, 1083, 1088, 1091, 1092, 1094,\n",
      "       1101, 1103, 1106, 1107, 1110, 1111, 1117, 1118, 1119, 1120, 1122,\n",
      "       1127, 1129, 1130, 1132, 1135, 1140, 1143, 1144, 1146, 1152, 1154,\n",
      "       1157, 1158, 1161, 1162, 1168, 1169, 1170, 1171, 1173, 1178, 1180,\n",
      "       1181, 1183, 1186, 1190, 1191, 1194, 1195, 1197, 1203, 1204, 1205,\n",
      "       1208, 1209, 1212, 1213, 1219, 1220, 1221, 1222, 1224, 1229, 1231,\n",
      "       1232, 1234, 1237, 1241, 1242, 1245, 1246, 1248, 1254, 1255, 1256,\n",
      "       1259, 1260, 1263, 1264, 1270, 1271, 1272, 1273, 1275, 1280, 1282,\n",
      "       1283, 1285, 1286, 1287, 1289, 1291, 1293, 1294, 1295, 1297, 1298,\n",
      "       1300, 1301, 1302, 1303, 1306, 1308, 1310, 1311, 1312, 1314, 1315,\n",
      "       1317, 1318, 1319, 1321, 1323, 1324, 1326, 1327, 1328, 1329, 1334,\n",
      "       1335, 1336, 1339, 1340, 1343, 1344, 1350, 1351, 1352, 1353, 1355,\n",
      "       1360, 1362, 1363, 1365, 1366, 1367, 1370, 1371, 1373]),)\n",
      "Number of outliers is: 427\n",
      "The score threshold is: 1\n",
      "The indices of the outliers:\n",
      "(array([   4,   32,   56,   85,  108,  137,  150,  161,  190,  213,  241,\n",
      "        252,  264,  292,  304,  316,  344,  355,  367,  396,  407,  420,\n",
      "        449,  460,  472,  481,  501,  512,  524,  552,  564,  576,  605,\n",
      "        616,  628,  633,  637,  656,  662,  668,  680,  685,  689,  706,\n",
      "        708,  714,  719,  731,  737,  741,  758,  760,  766,  771,  784,\n",
      "        789,  793,  811,  813,  819,  824,  836,  842,  846,  863,  865,\n",
      "        868,  871,  876,  891,  897,  901,  919,  921,  924,  927,  932,\n",
      "        944,  950,  954,  971,  973,  976,  979,  984,  997, 1002, 1006,\n",
      "       1023, 1025, 1028, 1031, 1036, 1048, 1053, 1057, 1075, 1077, 1080,\n",
      "       1083, 1088, 1101, 1106, 1110, 1127, 1129, 1132, 1135, 1140, 1152,\n",
      "       1157, 1161, 1178, 1180, 1183, 1186, 1191, 1203, 1208, 1212, 1229,\n",
      "       1231, 1234, 1237, 1242, 1254, 1259, 1263, 1280, 1282, 1285, 1302,\n",
      "       1334, 1339, 1343, 1360, 1362, 1365, 1367]),)\n",
      "Number of outliers is: 139\n",
      "The score threshold is: 2\n",
      "The indices of the outliers:\n",
      "(array([ 264,  316,  367,  420,  449,  472,  481,  501,  524,  552,  564,\n",
      "        576,  605,  616,  628,  656,  668,  680,  708,  719,  731,  760,\n",
      "        771,  784,  813,  824,  836,  865,  876,  891,  921,  932,  944,\n",
      "        973,  984,  997, 1025, 1036, 1048, 1077, 1088, 1101, 1129, 1140,\n",
      "       1152, 1180, 1191, 1203, 1231, 1242, 1254, 1282, 1334, 1362, 1367]),)\n",
      "Number of outliers is: 55\n",
      "The score threshold is: 3\n",
      "The indices of the outliers:\n",
      "(array([ 420,  472,  481,  524,  576,  628,  680,  731,  760,  784,  813,\n",
      "        824,  836,  865,  876,  891,  921,  932,  944,  973,  984,  997,\n",
      "       1025, 1036, 1048, 1077, 1088, 1101, 1129, 1140, 1152, 1180, 1191,\n",
      "       1203, 1231, 1242, 1254, 1282, 1334, 1362, 1367]),)\n",
      "Number of outliers is: 41\n",
      "The score threshold is: 4\n",
      "The indices of the outliers:\n",
      "(array([ 481,  576,  628,  680,  731,  784,  836,  891,  921,  944,  973,\n",
      "        997, 1025, 1048, 1077, 1101, 1129, 1152, 1180, 1203, 1231, 1254,\n",
      "       1282, 1334, 1362]),)\n",
      "Number of outliers is: 25\n"
     ]
    }
   ],
   "source": [
    "z_scores = zscore(used_c['Total_expenditure'])\n",
    "for threshold in range(0,5):\n",
    "    print(\"The score threshold is: {}\".format(threshold))\n",
    "    print(\"The indices of the outliers:\")\n",
    "    print(np.where(z_scores > threshold))\n",
    "    print(\"Number of outliers is: {}\".format(len((np.where(z_scores > threshold)[0]))))"
   ]
  },
  {
   "cell_type": "markdown",
   "metadata": {},
   "source": [
    "### Tukey's method\n",
    "also known as IQR method: 1.5 times IQR as outliers\n"
   ]
  },
  {
   "cell_type": "code",
   "execution_count": 33,
   "metadata": {
    "scrolled": true
   },
   "outputs": [
    {
     "name": "stdout",
     "output_type": "stream",
     "text": [
      "The score threshold is: 1.0\n",
      "Number of outliers is: (array([], dtype=int64),)\n",
      "The score threshold is: 1.5\n",
      "Number of outliers is: (array([], dtype=int64),)\n",
      "The score threshold is: 2.0\n",
      "Number of outliers is: (array([], dtype=int64),)\n",
      "The score threshold is: 2.5\n",
      "Number of outliers is: (array([], dtype=int64),)\n",
      "The score threshold is: 3.0\n",
      "Number of outliers is: (array([], dtype=int64),)\n",
      "The score threshold is: 3.5\n",
      "Number of outliers is: (array([], dtype=int64),)\n",
      "The score threshold is: 4.0\n",
      "Number of outliers is: (array([], dtype=int64),)\n",
      "The score threshold is: 4.5\n",
      "Number of outliers is: (array([], dtype=int64),)\n"
     ]
    }
   ],
   "source": [
    "# NumPy's percentile() method returns the \n",
    "# values of the given percentiles. In our case,\n",
    "# we give 75 and 25 as parameters which corresponds \n",
    "# to the third and the first quartile.\n",
    "q75, q25 = np.percentile(used_c[\"Total_revenue\"], [75 ,25])\n",
    "iqr = q75 - q25\n",
    "\n",
    "for threshold in np.arange(1,5,0.5):\n",
    "    min_val = q25 - (iqr*threshold)\n",
    "    max_val = q75 + (iqr*threshold)\n",
    "    print(\"The score threshold is: {}\".format(threshold))\n",
    "    print(\"Number of outliers is: {}\".format(\n",
    "        (np.where((used_c[\"Total_revenue\"] > max_val) | used_c[\"Total_revenue\"] < min_val))))\n",
    "    "
   ]
  },
  {
   "cell_type": "code",
   "execution_count": 31,
   "metadata": {},
   "outputs": [
    {
     "name": "stdout",
     "output_type": "stream",
     "text": [
      "The score threshold is: 1.0\n",
      "Number of outliers is: 0\n",
      "The score threshold is: 1.5\n",
      "Number of outliers is: 0\n",
      "The score threshold is: 2.0\n",
      "Number of outliers is: 0\n",
      "The score threshold is: 2.5\n",
      "Number of outliers is: 0\n",
      "The score threshold is: 3.0\n",
      "Number of outliers is: 0\n",
      "The score threshold is: 3.5\n",
      "Number of outliers is: 0\n",
      "The score threshold is: 4.0\n",
      "Number of outliers is: 0\n",
      "The score threshold is: 4.5\n",
      "Number of outliers is: 0\n"
     ]
    }
   ],
   "source": [
    "\n",
    "q75, q25 = np.percentile(used_c['Total_expenditure'], [75 ,25])\n",
    "iqr = q75 - q25\n",
    "\n",
    "for threshold in np.arange(1,5,0.5):\n",
    "    min_val = q25 - (iqr*threshold)\n",
    "    max_val = q75 + (iqr*threshold)\n",
    "    print(\"The score threshold is: {}\".format(threshold))\n",
    "    print(\"Number of outliers is: {}\".format(len((np.where((used_c['Total_expenditure'] > max_val) \n",
    "                                                           | used_c['Total_expenditure'] < min_val))[0])\n",
    "                                            ))"
   ]
  },
  {
   "cell_type": "code",
   "execution_count": null,
   "metadata": {},
   "outputs": [],
   "source": []
  },
  {
   "cell_type": "markdown",
   "metadata": {},
   "source": [
    "### If you detect outliers in the TOTAL_REVENUE and TOTAL_EXPENDITURE variables, apply the techniques you learned in this checkpoint to eliminate them and validate that there's no outlier values after you handled them."
   ]
  },
  {
   "cell_type": "code",
   "execution_count": 36,
   "metadata": {},
   "outputs": [
    {
     "data": {
      "text/plain": [
       "masked_array(data=[ 2678885.,  1049591.,  3258079., ...,  3478401.,\n",
       "                   11637376.,  1962874.],\n",
       "             mask=False,\n",
       "       fill_value=1e+20)"
      ]
     },
     "execution_count": 36,
     "metadata": {},
     "output_type": "execute_result"
    }
   ],
   "source": [
    "from scipy.stats.mstats import winsorize\n",
    "\n",
    "# We apply one-way winsorization to the highest end\n",
    "# of the value distribution. As we have a lot of extreme\n",
    "# values, we set the values of the outliers to the \n",
    "# value of the 90th percentile. \n",
    "winsorized_viewsR = winsorize(used_c[\"Total_revenue\"], (0, 0.10))\n",
    "winsorized_viewsE = winsorize(used_c[\"Total_expenditure\"], (0, 0.10))\n",
    "\n",
    "winsorized_viewsR\n"
   ]
  },
  {
   "cell_type": "code",
   "execution_count": 37,
   "metadata": {},
   "outputs": [
    {
     "data": {
      "text/plain": [
       "masked_array(data=[ 2653798.,   972488.,  3401580., ...,  3466981.,\n",
       "                   11553677.,  1942406.],\n",
       "             mask=False,\n",
       "       fill_value=1e+20)"
      ]
     },
     "execution_count": 37,
     "metadata": {},
     "output_type": "execute_result"
    }
   ],
   "source": [
    "winsorized_viewsE"
   ]
  },
  {
   "cell_type": "code",
   "execution_count": 38,
   "metadata": {
    "scrolled": true
   },
   "outputs": [
    {
     "data": {
      "image/png": "[encoded data removed]",
      "text/plain": [
       "<Figure size 1080x360 with 2 Axes>"
      ]
     },
     "metadata": {
      "needs_background": "light"
     },
     "output_type": "display_data"
    }
   ],
   "source": [
    "plt.figure(figsize = (15,5))\n",
    "\n",
    "plt.subplot(1,2,1)\n",
    "\n",
    "plt.boxplot(winsorized_viewsE)\n",
    "plt.title(\"Box plot of total expenditure (whis=1.5)\")\n",
    "\n",
    "plt.subplot(1,2,2)\n",
    "plt.boxplot(winsorized_viewsR)\n",
    "plt.title(\"Box plot of total revenue (whis=1.5)\")\n",
    "plt.show()"
   ]
  },
  {
   "cell_type": "markdown",
   "metadata": {},
   "source": [
    "See no outliers after winsorization"
   ]
  },
  {
   "cell_type": "code",
   "execution_count": 45,
   "metadata": {},
   "outputs": [
    {
     "name": "stdout",
     "output_type": "stream",
     "text": [
      "The score threshold is: 0\n",
      "The indices of the outliers:\n",
      "(array([   4,    9,   13,   22,   30,   32,   35,   39,   44,   56,   61,\n",
      "         65,   75,   85,   88,   91,   96,  108,  114,  118,  127,  137,\n",
      "        140,  143,  148,  150,  161,  166,  170,  179,  187,  190,  193,\n",
      "        196,  201,  213,  218,  219,  222,  231,  239,  241,  244,  247,\n",
      "        252,  264,  269,  270,  273,  282,  290,  292,  295,  296,  299,\n",
      "        304,  316,  321,  322,  325,  333,  334,  342,  344,  347,  350,\n",
      "        355,  358,  367,  373,  374,  377,  378,  385,  386,  394,  396,\n",
      "        397,  399,  402,  407,  411,  414,  420,  425,  426,  429,  430,\n",
      "        437,  438,  439,  445,  447,  449,  450,  452,  455,  460,  463,\n",
      "        464,  466,  472,  477,  478,  481,  482,  483,  489,  490,  491,\n",
      "        492,  499,  501,  502,  504,  507,  512,  515,  516,  518,  524,\n",
      "        529,  530,  533,  534,  540,  541,  542,  543,  550,  552,  553,\n",
      "        555,  559,  564,  567,  568,  570,  576,  581,  582,  585,  586,\n",
      "        592,  594,  595,  596,  598,  603,  605,  606,  608,  611,  616,\n",
      "        619,  620,  622,  628,  633,  634,  637,  638,  644,  645,  646,\n",
      "        647,  649,  654,  656,  657,  659,  662,  665,  668,  671,  672,\n",
      "        674,  680,  685,  686,  689,  690,  696,  697,  698,  699,  701,\n",
      "        706,  708,  709,  711,  714,  719,  722,  723,  725,  729,  731,\n",
      "        732,  733,  735,  737,  738,  741,  742,  748,  749,  750,  751,\n",
      "        753,  758,  760,  761,  763,  766,  771,  775,  776,  778,  782,\n",
      "        784,  785,  786,  789,  790,  793,  794,  800,  801,  802,  803,\n",
      "        805,  808,  811,  813,  814,  816,  819,  823,  824,  827,  828,\n",
      "        830,  832,  834,  836,  837,  838,  842,  843,  846,  847,  853,\n",
      "        854,  855,  856,  858,  863,  865,  866,  868,  871,  873,  875,\n",
      "        876,  879,  880,  882,  883,  885,  887,  889,  891,  892,  893,\n",
      "        897,  898,  901,  902,  906,  908,  909,  910,  911,  913,  919,\n",
      "        921,  922,  924,  927,  929,  931,  932,  935,  936,  938,  942,\n",
      "        944,  945,  946,  950,  951,  954,  955,  959,  961,  962,  963,\n",
      "        964,  966,  971,  973,  974,  976,  979,  981,  983,  984,  987,\n",
      "        988,  991,  995,  997,  998,  999, 1002, 1003, 1006, 1007, 1011,\n",
      "       1013, 1014, 1015, 1016, 1018, 1023, 1025, 1026, 1028, 1031, 1033,\n",
      "       1035, 1036, 1039, 1040, 1042, 1046, 1048, 1049, 1050, 1053, 1054,\n",
      "       1057, 1058, 1063, 1065, 1066, 1067, 1068, 1070, 1075, 1077, 1078,\n",
      "       1080, 1083, 1085, 1087, 1088, 1091, 1092, 1094, 1101, 1102, 1103,\n",
      "       1106, 1107, 1110, 1111, 1115, 1117, 1118, 1119, 1120, 1122, 1127,\n",
      "       1129, 1130, 1132, 1135, 1137, 1139, 1140, 1143, 1144, 1146, 1150,\n",
      "       1152, 1153, 1154, 1157, 1158, 1161, 1162, 1166, 1168, 1169, 1170,\n",
      "       1171, 1173, 1178, 1180, 1181, 1183, 1186, 1188, 1190, 1191, 1194,\n",
      "       1195, 1197, 1201, 1203, 1204, 1205, 1208, 1209, 1212, 1213, 1217,\n",
      "       1219, 1220, 1221, 1222, 1224, 1229, 1231, 1232, 1234, 1237, 1239,\n",
      "       1241, 1242, 1245, 1246, 1248, 1252, 1254, 1255, 1256, 1259, 1260,\n",
      "       1263, 1264, 1267, 1268, 1270, 1271, 1272, 1273, 1275, 1280, 1282,\n",
      "       1283, 1285, 1286, 1287, 1289, 1291, 1293, 1294, 1295, 1297, 1298,\n",
      "       1300, 1301, 1302, 1303, 1306, 1308, 1310, 1311, 1312, 1314, 1315,\n",
      "       1317, 1318, 1319, 1321, 1323, 1324, 1326, 1327, 1328, 1329, 1332,\n",
      "       1334, 1335, 1336, 1339, 1340, 1343, 1344, 1347, 1348, 1350, 1351,\n",
      "       1352, 1353, 1355, 1360, 1362, 1363, 1365, 1366, 1367, 1370, 1371,\n",
      "       1373]),)\n",
      "Number of outliers is: 518\n",
      "The score threshold is: 1\n",
      "The indices of the outliers:\n",
      "(array([   4,   32,   44,   56,   85,   96,  108,  137,  148,  150,  161,\n",
      "        190,  201,  213,  241,  247,  252,  264,  269,  292,  299,  304,\n",
      "        316,  321,  325,  334,  344,  350,  355,  367,  373,  377,  386,\n",
      "        394,  396,  402,  407,  420,  425,  429,  438,  447,  449,  452,\n",
      "        455,  460,  472,  477,  481,  482,  491,  499,  501,  504,  507,\n",
      "        512,  524,  529,  533,  542,  550,  552,  555,  559,  564,  576,\n",
      "        581,  585,  595,  603,  605,  608,  611,  616,  628,  633,  637,\n",
      "        646,  654,  656,  659,  662,  665,  668,  680,  685,  686,  689,\n",
      "        698,  706,  708,  711,  714,  719,  731,  735,  737,  738,  741,\n",
      "        750,  758,  760,  763,  766,  771,  784,  789,  790,  793,  802,\n",
      "        811,  813,  816,  819,  824,  827,  836,  842,  843,  846,  854,\n",
      "        855,  863,  865,  868,  871,  876,  879,  880,  882,  891,  897,\n",
      "        898,  901,  909,  910,  919,  921,  922,  924,  927,  932,  935,\n",
      "        944,  950,  951,  954,  962,  963,  971,  973,  976,  979,  984,\n",
      "        987,  997, 1002, 1003, 1006, 1014, 1015, 1023, 1025, 1028, 1031,\n",
      "       1036, 1039, 1048, 1053, 1054, 1057, 1066, 1067, 1075, 1077, 1080,\n",
      "       1083, 1088, 1091, 1101, 1106, 1107, 1110, 1118, 1119, 1127, 1129,\n",
      "       1132, 1135, 1140, 1143, 1152, 1157, 1158, 1161, 1169, 1170, 1178,\n",
      "       1180, 1183, 1186, 1191, 1194, 1203, 1208, 1209, 1212, 1220, 1221,\n",
      "       1229, 1231, 1234, 1237, 1242, 1245, 1254, 1259, 1260, 1263, 1271,\n",
      "       1272, 1280, 1282, 1285, 1286, 1287, 1289, 1291, 1293, 1294, 1295,\n",
      "       1297, 1298, 1300, 1301, 1302, 1303, 1306, 1308, 1310, 1311, 1312,\n",
      "       1314, 1315, 1317, 1318, 1319, 1321, 1323, 1324, 1326, 1327, 1328,\n",
      "       1329, 1334, 1339, 1340, 1343, 1351, 1352, 1360, 1362, 1365, 1367,\n",
      "       1370]),)\n",
      "Number of outliers is: 265\n",
      "The score threshold is: 2\n",
      "The indices of the outliers:\n",
      "(array([   4,   32,   56,   85,  108,  137,  150,  161,  190,  213,  241,\n",
      "        252,  264,  292,  304,  316,  344,  355,  367,  396,  407,  420,\n",
      "        449,  460,  472,  481,  501,  512,  524,  552,  564,  576,  585,\n",
      "        605,  616,  628,  633,  637,  654,  656,  662,  668,  680,  685,\n",
      "        689,  706,  708,  714,  719,  731,  737,  741,  758,  760,  766,\n",
      "        771,  784,  789,  793,  811,  813,  816,  819,  824,  836,  842,\n",
      "        846,  863,  865,  868,  871,  876,  891,  897,  901,  919,  921,\n",
      "        924,  927,  932,  944,  950,  954,  971,  973,  976,  979,  984,\n",
      "        997, 1002, 1006, 1023, 1025, 1028, 1031, 1036, 1048, 1053, 1057,\n",
      "       1075, 1077, 1080, 1083, 1088, 1101, 1106, 1110, 1127, 1129, 1132,\n",
      "       1135, 1140, 1152, 1157, 1161, 1178, 1180, 1183, 1186, 1191, 1203,\n",
      "       1208, 1212, 1229, 1231, 1234, 1237, 1242, 1254, 1259, 1263, 1280,\n",
      "       1282, 1285, 1302, 1334, 1339, 1343, 1360, 1362, 1365, 1367]),)\n",
      "Number of outliers is: 142\n",
      "The score threshold is: 3\n",
      "The indices of the outliers:\n",
      "(array([], dtype=int64),)\n",
      "Number of outliers is: 0\n",
      "The score threshold is: 4\n",
      "The indices of the outliers:\n",
      "(array([], dtype=int64),)\n",
      "Number of outliers is: 0\n"
     ]
    }
   ],
   "source": [
    "z_scores = zscore(winsorized_viewsE)\n",
    "for threshold in range(0,5):\n",
    "    print(\"The score threshold is: {}\".format(threshold))\n",
    "    print(\"The indices of the outliers:\")\n",
    "    print(np.where(z_scores > threshold))\n",
    "    print(\"Number of outliers is: {}\".format(len((np.where(z_scores > threshold)[0]))))"
   ]
  },
  {
   "cell_type": "markdown",
   "metadata": {},
   "source": [
    "When transforming the variable, we usually apply **monotonic transformations**. These are transformations that don't change the relative ordering of the values in a variable. **Log transformations** and **square root transformations** are 2 common monotonic transformations in data science."
   ]
  },
  {
   "cell_type": "code",
   "execution_count": 35,
   "metadata": {},
   "outputs": [
    {
     "data": {
      "image/png": "[encoded data removed]",
      "text/plain": [
       "<Figure size 1440x576 with 4 Axes>"
      ]
     },
     "metadata": {
      "needs_background": "light"
     },
     "output_type": "display_data"
    }
   ],
   "source": [
    "plt.figure(figsize = (20,8))\n",
    "\n",
    "plt.subplot(2,2,1)\n",
    "plt.hist(used_c['Total_revenue'])\n",
    "plt.title(\"Histogram of total revenue\")\n",
    "\n",
    "plt.subplot(2,2,2)\n",
    "plt.hist(np.log(used_c['Total_revenue']))\n",
    "plt.title(\"Histogram of log transformed total revenue\")\n",
    "\n",
    "plt.subplot(2,2,3)\n",
    "plt.hist(used_c['Total_expenditure'])\n",
    "plt.title(\"Histogram of total expenditure\")\n",
    "\n",
    "\n",
    "plt.subplot(2,2,4)\n",
    "plt.hist(np.log(used_c['Total_expenditure']))\n",
    "plt.title(\"Histogram of log transformed total expenditure\")\n",
    "\n",
    "plt.show()"
   ]
  },
  {
   "cell_type": "markdown",
   "metadata": {},
   "source": [
    "as the log transformation brings histogram more close to normal distribution"
   ]
  },
  {
   "cell_type": "markdown",
   "metadata": {},
   "source": [
    "let see if boxplots got any outliers or not after log transformation"
   ]
  },
  {
   "cell_type": "code",
   "execution_count": 36,
   "metadata": {},
   "outputs": [
    {
     "data": {
      "image/png": "[encoded data removed]",
      "text/plain": [
       "<Figure size 1440x576 with 4 Axes>"
      ]
     },
     "metadata": {
      "needs_background": "light"
     },
     "output_type": "display_data"
    }
   ],
   "source": [
    "plt.figure(figsize = (20,8))\n",
    "\n",
    "plt.subplot(2,2,1)\n",
    "plt.boxplot(used_c['Total_revenue'])\n",
    "plt.title(\"Box plot of total revenue (whis=1.5)\")\n",
    "\n",
    "plt.subplot(2,2,2)\n",
    "plt.boxplot(np.log(used_c['Total_revenue']))\n",
    "plt.title(\"boxplot of log transformed total revenue\")\n",
    "\n",
    "plt.subplot(2,2,3)\n",
    "plt.boxplot(used_c['Total_expenditure'])\n",
    "plt.title(\"boxplot of total expenditure\")\n",
    "\n",
    "\n",
    "plt.subplot(2,2,4)\n",
    "plt.boxplot(np.log(used_c['Total_expenditure']))\n",
    "plt.title(\"boxplot of log transformed total expenditure\")\n",
    "\n",
    "plt.show()"
   ]
  },
  {
   "cell_type": "code",
   "execution_count": 49,
   "metadata": {},
   "outputs": [
    {
     "name": "stdout",
     "output_type": "stream",
     "text": [
      "The score threshold is: 1.0\n",
      "Number of outliers is: 16\n",
      "The score threshold is: 1.5\n",
      "Number of outliers is: 0\n",
      "The score threshold is: 2.0\n",
      "Number of outliers is: 0\n",
      "The score threshold is: 2.5\n",
      "Number of outliers is: 0\n",
      "The score threshold is: 3.0\n",
      "Number of outliers is: 0\n",
      "The score threshold is: 3.5\n",
      "Number of outliers is: 0\n",
      "The score threshold is: 4.0\n",
      "Number of outliers is: 0\n",
      "The score threshold is: 4.5\n",
      "Number of outliers is: 0\n"
     ]
    }
   ],
   "source": [
    "# now we take the log of the video views and calculate\n",
    "# the quartiles accordingly.\n",
    "\n",
    "q75, q25 = np.percentile(np.log(used_c[\"Total_revenue\"]), [75 ,25])\n",
    "iqr = q75 - q25\n",
    "\n",
    "for threshold in np.arange(1,5,0.5):\n",
    "    min_val = q25 - (iqr*threshold)\n",
    "    max_val = q75 + (iqr*threshold)\n",
    "    print(\"The score threshold is: {}\".format(threshold))\n",
    "    print(\"Number of outliers is: {}\".format(len((np.where((np.log(used_c[\"Total_revenue\"]) > max_val) \n",
    "                                                           | (np.log(used_c[\"Total_revenue\"]) < min_val))[0]))\n",
    "                                            ))\n"
   ]
  },
  {
   "cell_type": "markdown",
   "metadata": {},
   "source": [
    "### Create another variable by subtracting the original TOTAL_EXPENDITURE from TOTAL_REVENUE (before you eliminated the outliers). You can think of it as a kind of budget deficit in education. Do you find any outlier values in this new variable? If so, eliminate them using the technique you think most suitable."
   ]
  },
  {
   "cell_type": "code",
   "execution_count": null,
   "metadata": {},
   "outputs": [],
   "source": []
  },
  {
   "cell_type": "code",
   "execution_count": null,
   "metadata": {},
   "outputs": [],
   "source": []
  },
  {
   "cell_type": "code",
   "execution_count": null,
   "metadata": {},
   "outputs": [],
   "source": []
  },
  {
   "cell_type": "code",
   "execution_count": null,
   "metadata": {},
   "outputs": [],
   "source": []
  },
  {
   "cell_type": "code",
   "execution_count": null,
   "metadata": {},
   "outputs": [],
   "source": []
  },
  {
   "cell_type": "code",
   "execution_count": null,
   "metadata": {},
   "outputs": [],
   "source": []
  },
  {
   "cell_type": "code",
   "execution_count": null,
   "metadata": {},
   "outputs": [],
   "source": []
  },
  {
   "cell_type": "markdown",
   "metadata": {},
   "source": [
    "### Now create another variable by subtracting the TOTAL_EXPENDITURE from TOTAL_REVENUE. This time, use the outlier eliminated versions of TOTAL_EXPENDITURE from TOTAL_REVENUE. In this newly created variable, can you find any outliers? If so, eliminate them."
   ]
  },
  {
   "cell_type": "code",
   "execution_count": null,
   "metadata": {},
   "outputs": [],
   "source": []
  },
  {
   "cell_type": "code",
   "execution_count": null,
   "metadata": {},
   "outputs": [],
   "source": []
  },
  {
   "cell_type": "code",
   "execution_count": null,
   "metadata": {},
   "outputs": [],
   "source": []
  },
  {
   "cell_type": "code",
   "execution_count": null,
   "metadata": {},
   "outputs": [],
   "source": []
  },
  {
   "cell_type": "code",
   "execution_count": null,
   "metadata": {},
   "outputs": [],
   "source": []
  },
  {
   "cell_type": "code",
   "execution_count": null,
   "metadata": {},
   "outputs": [],
   "source": []
  },
  {
   "cell_type": "markdown",
   "metadata": {},
   "source": [
    "### Compare some basic descriptive statistics of the budget variables you end up with in the 3rd and the 4th questions. Do you see any differences?"
   ]
  },
  {
   "cell_type": "code",
   "execution_count": null,
   "metadata": {},
   "outputs": [],
   "source": []
  },
  {
   "cell_type": "code",
   "execution_count": null,
   "metadata": {},
   "outputs": [],
   "source": []
  },
  {
   "cell_type": "code",
   "execution_count": null,
   "metadata": {},
   "outputs": [],
   "source": []
  },
  {
   "cell_type": "code",
   "execution_count": null,
   "metadata": {},
   "outputs": [],
   "source": []
  },
  {
   "cell_type": "code",
   "execution_count": null,
   "metadata": {},
   "outputs": [],
   "source": []
  },
  {
   "cell_type": "code",
   "execution_count": null,
   "metadata": {},
   "outputs": [],
   "source": []
  },
  {
   "cell_type": "markdown",
   "metadata": {},
   "source": [
    "### If our variable of interest is the budget deficit variable, which method do you think is the appropriate in dealing with the outliers in this variable: the method in the 3rd question or the one in the 4th question?"
   ]
  }
 ],
 "metadata": {
  "kernelspec": {
   "display_name": "Python 3",
   "language": "python",
   "name": "python3"
  },
  "language_info": {
   "codemirror_mode": {
    "name": "ipython",
    "version": 3
   },
   "file_extension": ".py",
   "mimetype": "text/x-python",
   "name": "python",
   "nbconvert_exporter": "python",
   "pygments_lexer": "ipython3",
   "version": "3.7.3"
  }
 },
 "nbformat": 4,
 "nbformat_minor": 2
}
